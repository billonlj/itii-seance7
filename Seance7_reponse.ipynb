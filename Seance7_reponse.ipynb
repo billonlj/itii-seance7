{
 "cells": [
  {
   "cell_type": "code",
   "execution_count": 2,
   "metadata": {},
   "outputs": [
    {
     "name": "stdout",
     "output_type": "stream",
     "text": [
      "[[ 7 10 13]\n",
      " [-2  8 11]\n",
      " [-1 13 15]]\n"
     ]
    }
   ],
   "source": [
    "#Exercice 1\n",
    "\n",
    "import numpy as np\n",
    "def somme(A,B):\n",
    "    if (A.shape == B.shape):\n",
    "        C = A + B\n",
    "        print(C)\n",
    "    else:\n",
    "        print(\"Impossible d'additionner\")\n",
    "        \n",
    "\n",
    "A = np.array([[1,3,8],[-3,6,8],[-6,7,8]])\n",
    "B = np.array([[6,7,5],[1,2,3],[5,6,7]])\n",
    "somme (A,B)"
   ]
  },
  {
   "cell_type": "code",
   "execution_count": 24,
   "metadata": {},
   "outputs": [
    {
     "name": "stdout",
     "output_type": "stream",
     "text": [
      "A : 3\n",
      "b: 2\n",
      "Impossible de multiplier\n"
     ]
    }
   ],
   "source": [
    "#Exerice 2\n",
    "\n",
    "def produit(A,B):\n",
    "    print(\"A :\",A.shape[1])\n",
    "    print(\"b:\",B.shape[0])\n",
    "    if(A.shape[1] == B.shape[0]):\n",
    "        C = A.dot(B)\n",
    "        print(C)\n",
    "    else:\n",
    "        print(\"Impossible de multiplier\")\n",
    "\n",
    "C = np.array([[1,3,8],[-3,6,8],[-6,7,8]])\n",
    "D = np.array([[6,7,5],[1,2,3],[5,6,7]])\n",
    "\n",
    "produit(C,D)\n"
   ]
  },
  {
   "cell_type": "code",
   "execution_count": 50,
   "metadata": {},
   "outputs": [
    {
     "name": "stdout",
     "output_type": "stream",
     "text": [
      "La matrice est stochastique\n",
      "La matrice est Bistochastique\n"
     ]
    }
   ],
   "source": [
    "#Exercice 3\n",
    "\n",
    "def estStochastique(A):\n",
    "    estStochastique = True;\n",
    "    if A.shape[1]!=A.shape[0]:\n",
    "        estStochastique = False;\n",
    "    else:\n",
    "        for i in range(A.shape[0]):\n",
    "            s=np.sum(A[i])\n",
    "            if s != 1:\n",
    "                estStochastique = False\n",
    "                break\n",
    "    return estStochastique\n",
    "\n",
    "def estBistochastique(A):\n",
    "    estBistochastique = True;\n",
    "    if estStochastique(A)==False:\n",
    "        estBistochastique = False;\n",
    "    else:\n",
    "        for i in range(A.shape[0]):\n",
    "            s=np.sum(A[:,i])\n",
    "            if s != 1:\n",
    "                estBistochastique = False\n",
    "                break\n",
    "    return estBistochastique   \n",
    "\n",
    "        \n",
    "\n",
    "E = np.array([[0.1,0.7,0.2], [0.5,0.3,0.2], [0,0.8,0.2]])\n",
    "\n",
    "# === Stochastique ===\n",
    "res = estStochastique(E)\n",
    "#Affichage en clair\n",
    "if(res):\n",
    "    print(\"La matrice est stochastique\")\n",
    "else:\n",
    "    print(\"La matrice n'est pas stochastique\")\n",
    "\n",
    "# === Bistochastique ===\n",
    "F = np.array([[1/3,1/3,1/3],[1/3,1/3,1/3],[1/3,1/3,1/3]])\n",
    "res = estBistochastique(F)\n",
    "#Affichage en clair\n",
    "if(res):\n",
    "    print(\"La matrice est Bistochastique\")\n",
    "else:\n",
    "    print(\"La matrice n'est pas Bistochastique\") \n"
   ]
  },
  {
   "cell_type": "code",
   "execution_count": 51,
   "metadata": {},
   "outputs": [
    {
     "name": "stdout",
     "output_type": "stream",
     "text": [
      "[[ 1 -3 -6]\n",
      " [ 3  6  7]\n",
      " [ 8  8  8]]\n"
     ]
    }
   ],
   "source": [
    "# Exercice 4\n",
    "\n",
    "import numpy as np\n",
    "\n",
    "def transposer(A):\n",
    "    print(np.transpose(A))\n",
    "\n",
    "G = np.array([[1,3,8],[-3,6,8],[-6,7,8]])\n",
    "transposer(G)"
   ]
  }
 ],
 "metadata": {
  "kernelspec": {
   "display_name": "Python 3",
   "language": "python",
   "name": "python3"
  },
  "language_info": {
   "codemirror_mode": {
    "name": "ipython",
    "version": 3
   },
   "file_extension": ".py",
   "mimetype": "text/x-python",
   "name": "python",
   "nbconvert_exporter": "python",
   "pygments_lexer": "ipython3",
   "version": "3.8.3"
  }
 },
 "nbformat": 4,
 "nbformat_minor": 4
}
